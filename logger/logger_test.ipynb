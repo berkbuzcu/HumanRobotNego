{
 "cells": [
  {
   "cell_type": "code",
   "execution_count": 1,
   "metadata": {},
   "outputs": [],
   "source": [
    "import peewee\n",
    "from models import *"
   ]
  },
  {
   "cell_type": "code",
   "execution_count": 2,
   "metadata": {},
   "outputs": [],
   "source": [
    "create_tables()"
   ]
  },
  {
   "cell_type": "code",
   "execution_count": 10,
   "metadata": {},
   "outputs": [],
   "source": [
    "session_id = SessionInformation.create(\n",
    "            participant_name = \"Berk\",\n",
    "            agent_type = \"Hybrid\",\n",
    "            interaction_type = \"Nao\",\n",
    "            domain = \"Holiday\"\n",
    "        )"
   ]
  },
  {
   "cell_type": "code",
   "execution_count": 17,
   "metadata": {},
   "outputs": [],
   "source": [
    "test = SessionOfferHistory.create(\n",
    "        session_id=2,\n",
    "        bidder=\"Berk\",\n",
    "        agent_utility=0.7,\n",
    "        human_utility=0.7,\n",
    "        offer={\"A\": 1, \"B\": 2},\n",
    "        move=\"Berk\",\n",
    "        agent_mood=\"Berk\",\n",
    "        max_valance=0.7,\n",
    "        min_valance=0.7,\n",
    "        valance=0.7,\n",
    "        max_arousal=0.7,\n",
    "        min_arousal=0.7,\n",
    "        arousal=0.7,\n",
    "        sensitivity_class=\"Berk\",\n",
    "        sentences=[\"Berk\"]\n",
    "        )"
   ]
  },
  {
   "cell_type": "code",
   "execution_count": 22,
   "metadata": {},
   "outputs": [],
   "source": [
    "test = SessionOfferHistory.create(\n",
    "        session_id=2,\n",
    "        **{\"bidder\":\"Berk2\",\n",
    "        \"agent_utility\":0.7,\n",
    "        \"human_utility\":0.7,\n",
    "        \"offer\":{\"A\": 1, \"B\": 2},\n",
    "        \"move\":\"Berk\",\n",
    "        \"agent_mood\":\"Berk\",\n",
    "        \"max_valance\":0.7,\n",
    "        \"min_valance\":0.7,\n",
    "        \"valance\":0.7,\n",
    "        \"max_arousal\":0.7,\n",
    "        \"min_arousal\":0.7,\n",
    "        \"arousal\":0.7,\n",
    "        \"sensitivity_class\":\"Berk\",\n",
    "        \"sentences\":[\"Berk\"]\n",
    "        })"
   ]
  }
 ],
 "metadata": {
  "kernelspec": {
   "display_name": "expectation_new",
   "language": "python",
   "name": "python3"
  },
  "language_info": {
   "codemirror_mode": {
    "name": "ipython",
    "version": 3
   },
   "file_extension": ".py",
   "mimetype": "text/x-python",
   "name": "python",
   "nbconvert_exporter": "python",
   "pygments_lexer": "ipython3",
   "version": "3.11.3"
  },
  "orig_nbformat": 4
 },
 "nbformat": 4,
 "nbformat_minor": 2
}
