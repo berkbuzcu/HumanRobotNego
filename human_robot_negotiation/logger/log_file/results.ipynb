{
 "cells": [
  {
   "cell_type": "code",
   "execution_count": 3,
   "metadata": {},
   "outputs": [],
   "source": [
    "import sqlite3\n",
    "import pandas as pd\n",
    "\n",
    "cnx = sqlite3.connect('logs(6).sqlite3')\n",
    "\n",
    "df = pd.read_sql_query(\"SELECT * FROM sessioninformation\", cnx)"
   ]
  },
  {
   "cell_type": "code",
   "execution_count": 23,
   "metadata": {},
   "outputs": [
    {
     "data": {
      "text/html": [
       "<div>\n",
       "<style scoped>\n",
       "    .dataframe tbody tr th:only-of-type {\n",
       "        vertical-align: middle;\n",
       "    }\n",
       "\n",
       "    .dataframe tbody tr th {\n",
       "        vertical-align: top;\n",
       "    }\n",
       "\n",
       "    .dataframe thead th {\n",
       "        text-align: right;\n",
       "    }\n",
       "</style>\n",
       "<table border=\"1\" class=\"dataframe\">\n",
       "  <thead>\n",
       "    <tr style=\"text-align: right;\">\n",
       "      <th></th>\n",
       "      <th>id</th>\n",
       "      <th>participant_uuid</th>\n",
       "      <th>session_location</th>\n",
       "      <th>agent_type</th>\n",
       "      <th>interaction_type</th>\n",
       "      <th>domain</th>\n",
       "    </tr>\n",
       "  </thead>\n",
       "  <tbody>\n",
       "    <tr>\n",
       "      <th>8</th>\n",
       "      <td>9</td>\n",
       "      <td>GH23062023</td>\n",
       "      <td>SBU</td>\n",
       "      <td>Hybrid</td>\n",
       "      <td>QT</td>\n",
       "      <td>Holiday_Demo</td>\n",
       "    </tr>\n",
       "    <tr>\n",
       "      <th>9</th>\n",
       "      <td>10</td>\n",
       "      <td>GH23062023</td>\n",
       "      <td>SBU</td>\n",
       "      <td>Solver</td>\n",
       "      <td>QT</td>\n",
       "      <td>Holiday_A</td>\n",
       "    </tr>\n",
       "    <tr>\n",
       "      <th>10</th>\n",
       "      <td>11</td>\n",
       "      <td>GH23062023</td>\n",
       "      <td>SBU</td>\n",
       "      <td>Solver</td>\n",
       "      <td>Nao</td>\n",
       "      <td>Holiday_B</td>\n",
       "    </tr>\n",
       "    <tr>\n",
       "      <th>11</th>\n",
       "      <td>12</td>\n",
       "      <td>RB23062023</td>\n",
       "      <td>SBU</td>\n",
       "      <td>Hybrid</td>\n",
       "      <td>Nao</td>\n",
       "      <td>Holiday_Demo</td>\n",
       "    </tr>\n",
       "    <tr>\n",
       "      <th>12</th>\n",
       "      <td>13</td>\n",
       "      <td>RB23062023</td>\n",
       "      <td>SBU</td>\n",
       "      <td>Solver</td>\n",
       "      <td>Nao</td>\n",
       "      <td>Holiday_A</td>\n",
       "    </tr>\n",
       "    <tr>\n",
       "      <th>13</th>\n",
       "      <td>14</td>\n",
       "      <td>RB23062023</td>\n",
       "      <td>SBU</td>\n",
       "      <td>Solver</td>\n",
       "      <td>QT</td>\n",
       "      <td>Holiday_B</td>\n",
       "    </tr>\n",
       "    <tr>\n",
       "      <th>14</th>\n",
       "      <td>15</td>\n",
       "      <td>RA23062023</td>\n",
       "      <td>SBU</td>\n",
       "      <td>Hybrid</td>\n",
       "      <td>QT</td>\n",
       "      <td>Holiday_Demo</td>\n",
       "    </tr>\n",
       "    <tr>\n",
       "      <th>15</th>\n",
       "      <td>16</td>\n",
       "      <td>RA23062023</td>\n",
       "      <td>SBU</td>\n",
       "      <td>Solver</td>\n",
       "      <td>QT</td>\n",
       "      <td>Holiday_B</td>\n",
       "    </tr>\n",
       "    <tr>\n",
       "      <th>16</th>\n",
       "      <td>17</td>\n",
       "      <td>RA23062023</td>\n",
       "      <td>SBU</td>\n",
       "      <td>Solver</td>\n",
       "      <td>Nao</td>\n",
       "      <td>Holiday_A</td>\n",
       "    </tr>\n",
       "  </tbody>\n",
       "</table>\n",
       "</div>"
      ],
      "text/plain": [
       "    id participant_uuid session_location agent_type interaction_type  \\\n",
       "8    9       GH23062023              SBU     Hybrid               QT   \n",
       "9   10       GH23062023              SBU     Solver               QT   \n",
       "10  11       GH23062023              SBU     Solver              Nao   \n",
       "11  12       RB23062023              SBU     Hybrid              Nao   \n",
       "12  13       RB23062023              SBU     Solver              Nao   \n",
       "13  14       RB23062023              SBU     Solver               QT   \n",
       "14  15       RA23062023              SBU     Hybrid               QT   \n",
       "15  16       RA23062023              SBU     Solver               QT   \n",
       "16  17       RA23062023              SBU     Solver              Nao   \n",
       "\n",
       "          domain  \n",
       "8   Holiday_Demo  \n",
       "9      Holiday_A  \n",
       "10     Holiday_B  \n",
       "11  Holiday_Demo  \n",
       "12     Holiday_A  \n",
       "13     Holiday_B  \n",
       "14  Holiday_Demo  \n",
       "15     Holiday_B  \n",
       "16     Holiday_A  "
      ]
     },
     "execution_count": 23,
     "metadata": {},
     "output_type": "execute_result"
    }
   ],
   "source": [
    "session_ids = df.tail(9)\n",
    "session_ids"
   ]
  },
  {
   "cell_type": "code",
   "execution_count": 26,
   "metadata": {},
   "outputs": [
    {
     "data": {
      "text/html": [
       "<div>\n",
       "<style scoped>\n",
       "    .dataframe tbody tr th:only-of-type {\n",
       "        vertical-align: middle;\n",
       "    }\n",
       "\n",
       "    .dataframe tbody tr th {\n",
       "        vertical-align: top;\n",
       "    }\n",
       "\n",
       "    .dataframe thead th {\n",
       "        text-align: right;\n",
       "    }\n",
       "</style>\n",
       "<table border=\"1\" class=\"dataframe\">\n",
       "  <thead>\n",
       "    <tr style=\"text-align: right;\">\n",
       "      <th></th>\n",
       "      <th>id</th>\n",
       "      <th>session_id</th>\n",
       "      <th>is_agreement</th>\n",
       "      <th>final_scaled_time</th>\n",
       "      <th>final_agent_score</th>\n",
       "      <th>final_user_score</th>\n",
       "      <th>total_offers</th>\n",
       "      <th>human_awareness</th>\n",
       "      <th>sensitivity_analysis</th>\n",
       "      <th>robot_moods</th>\n",
       "    </tr>\n",
       "  </thead>\n",
       "  <tbody>\n",
       "    <tr>\n",
       "      <th>0</th>\n",
       "      <td>1</td>\n",
       "      <td>1</td>\n",
       "      <td>1</td>\n",
       "      <td>0.412603</td>\n",
       "      <td>0.7</td>\n",
       "      <td>0.45</td>\n",
       "      <td>21</td>\n",
       "      <td>0.857143</td>\n",
       "      <td>{\"silent\": 0.1, \"nice\": 0, \"fortunate\": 0.1, \"...</td>\n",
       "      <td>{\"null\": 1, \"Frustrated\": 3, \"Annoyed\": 0, \"Di...</td>\n",
       "    </tr>\n",
       "  </tbody>\n",
       "</table>\n",
       "</div>"
      ],
      "text/plain": [
       "   id  session_id  is_agreement  final_scaled_time  final_agent_score  \\\n",
       "0   1           1             1           0.412603                0.7   \n",
       "\n",
       "   final_user_score  total_offers  human_awareness  \\\n",
       "0              0.45            21         0.857143   \n",
       "\n",
       "                                sensitivity_analysis  \\\n",
       "0  {\"silent\": 0.1, \"nice\": 0, \"fortunate\": 0.1, \"...   \n",
       "\n",
       "                                         robot_moods  \n",
       "0  {\"null\": 1, \"Frustrated\": 3, \"Annoyed\": 0, \"Di...  "
      ]
     },
     "execution_count": 26,
     "metadata": {},
     "output_type": "execute_result"
    }
   ],
   "source": [
    "summary_df = pd.read_sql_query(\"SELECT * FROM sessionsummary\", cnx)\n",
    "summary_df.head(1)"
   ]
  },
  {
   "cell_type": "code",
   "execution_count": 30,
   "metadata": {},
   "outputs": [],
   "source": [
    "summary_df.loc[summary_df.session_id.isin(session_ids.id)].reset_index().drop(columns=[\"index\", \"id\"]).to_excel(\"summaries_test.xlsx\")"
   ]
  },
  {
   "cell_type": "code",
   "execution_count": 38,
   "metadata": {},
   "outputs": [
    {
     "name": "stdout",
     "output_type": "stream",
     "text": [
      "None\n",
      "None\n",
      "None\n",
      "None\n",
      "None\n",
      "None\n",
      "None\n",
      "None\n",
      "None\n",
      "None\n",
      "None\n",
      "None\n",
      "None\n",
      "None\n"
     ]
    }
   ],
   "source": [
    "offer_history_df = pd.read_sql_query(\"SELECT * FROM sessionofferhistory\", cnx)\n",
    "group_items = offer_history_df.loc[offer_history_df.session_id.isin(df.id)].groupby(offer_history_df.session_id)\n",
    "\n",
    "for group in group_items.groups:\n",
    "    print(group_items.get_group(group).to_excel(f\"session_id{group}_history.xlsx\"))"
   ]
  },
  {
   "cell_type": "code",
   "execution_count": 42,
   "metadata": {},
   "outputs": [
    {
     "name": "stdout",
     "output_type": "stream",
     "text": [
      "None\n",
      "None\n",
      "None\n",
      "None\n",
      "None\n",
      "None\n",
      "None\n",
      "None\n"
     ]
    }
   ],
   "source": [
    "solver_history_df = pd.read_sql_query(\"SELECT * FROM solveragentlogs\", cnx)\n",
    "group_items = solver_history_df.loc[solver_history_df.session_id.isin(df.id)].groupby(solver_history_df.session_id)\n",
    "for group in group_items.groups:\n",
    "    print(group_items.get_group(group).to_excel(f\"solver_id{group}_history.xlsx\"))"
   ]
  }
 ],
 "metadata": {
  "kernelspec": {
   "display_name": "expectation_new",
   "language": "python",
   "name": "python3"
  },
  "language_info": {
   "codemirror_mode": {
    "name": "ipython",
    "version": 3
   },
   "file_extension": ".py",
   "mimetype": "text/x-python",
   "name": "python",
   "nbconvert_exporter": "python",
   "pygments_lexer": "ipython3",
   "version": "3.11.3"
  },
  "orig_nbformat": 4
 },
 "nbformat": 4,
 "nbformat_minor": 2
}
